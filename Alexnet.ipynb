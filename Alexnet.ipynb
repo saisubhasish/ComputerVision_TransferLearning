{
  "nbformat": 4,
  "nbformat_minor": 0,
  "metadata": {
    "colab": {
      "provenance": []
    },
    "kernelspec": {
      "name": "python3",
      "display_name": "Python 3"
    },
    "language_info": {
      "name": "python"
    },
    "accelerator": "GPU"
  },
  "cells": [
    {
      "cell_type": "markdown",
      "source": [
        "### AlexNet:\n",
        "Trained on ImageNet data and designed for RGB images"
      ],
      "metadata": {
        "id": "ZOO2JiNdrSIg"
      }
    },
    {
      "cell_type": "code",
      "execution_count": null,
      "metadata": {
        "id": "-YUhuwSNWkIR"
      },
      "outputs": [],
      "source": [
        "# Importing libraries\n",
        "\n",
        "import tensorflow as tf\n",
        "from tensorflow import keras\n",
        "import keras\n",
        "from keras.models import Sequential\n",
        "from keras.layers import Dense, Activation, Dropout, Flatten, Conv2D, MaxPooling2D\n",
        "from tensorflow.keras.layers import BatchNormalization"
      ]
    },
    {
      "cell_type": "code",
      "source": [
        "!pip install tflearn "
      ],
      "metadata": {
        "colab": {
          "base_uri": "https://localhost:8080/"
        },
        "id": "iuIEOwl7W9CL",
        "outputId": "4135011a-6943-41c6-a734-39dcd6ba36a3"
      },
      "execution_count": null,
      "outputs": [
        {
          "output_type": "stream",
          "name": "stdout",
          "text": [
            "Looking in indexes: https://pypi.org/simple, https://us-python.pkg.dev/colab-wheels/public/simple/\n",
            "Requirement already satisfied: tflearn in /usr/local/lib/python3.8/dist-packages (0.5.0)\n",
            "Requirement already satisfied: six in /usr/local/lib/python3.8/dist-packages (from tflearn) (1.15.0)\n",
            "Requirement already satisfied: Pillow in /usr/local/lib/python3.8/dist-packages (from tflearn) (7.1.2)\n",
            "Requirement already satisfied: numpy in /usr/local/lib/python3.8/dist-packages (from tflearn) (1.21.6)\n"
          ]
        }
      ]
    },
    {
      "cell_type": "code",
      "source": [
        "# Get flower Data from tensorflow\n",
        "\n",
        "import tflearn.datasets.oxflower17 as oxflower17\n",
        "x, y = oxflower17.load_data(one_hot=True)"
      ],
      "metadata": {
        "id": "c60kGVJ5XCpN"
      },
      "execution_count": null,
      "outputs": []
    },
    {
      "cell_type": "code",
      "source": [
        "x"
      ],
      "metadata": {
        "colab": {
          "base_uri": "https://localhost:8080/"
        },
        "id": "Ermoh8NOXUHZ",
        "outputId": "142078ba-1bcd-4f79-c2a2-c0a64ab8ca75"
      },
      "execution_count": null,
      "outputs": [
        {
          "output_type": "execute_result",
          "data": {
            "text/plain": [
              "array([[[[0.49411765, 0.62352943, 0.12941177],\n",
              "         [0.49803922, 0.61960787, 0.15686275],\n",
              "         [0.49803922, 0.60784316, 0.20784314],\n",
              "         ...,\n",
              "         [0.6431373 , 0.61960787, 0.42352942],\n",
              "         [0.6431373 , 0.6156863 , 0.43137255],\n",
              "         [0.63529414, 0.60784316, 0.42745098]],\n",
              "\n",
              "        [[0.49019608, 0.61960787, 0.14901961],\n",
              "         [0.49803922, 0.62352943, 0.18431373],\n",
              "         [0.50980395, 0.627451  , 0.24313726],\n",
              "         ...,\n",
              "         [0.6431373 , 0.61960787, 0.42352942],\n",
              "         [0.6431373 , 0.6156863 , 0.43137255],\n",
              "         [0.63529414, 0.60784316, 0.42745098]],\n",
              "\n",
              "        [[0.5058824 , 0.6313726 , 0.20784314],\n",
              "         [0.5176471 , 0.6431373 , 0.24705882],\n",
              "         [0.5294118 , 0.64705884, 0.3019608 ],\n",
              "         ...,\n",
              "         [0.6431373 , 0.61960787, 0.42352942],\n",
              "         [0.6431373 , 0.6156863 , 0.43137255],\n",
              "         [0.63529414, 0.60784316, 0.42745098]],\n",
              "\n",
              "        ...,\n",
              "\n",
              "        [[0.48235294, 0.6117647 , 0.44313726],\n",
              "         [0.4862745 , 0.6156863 , 0.44705883],\n",
              "         [0.49019608, 0.6156863 , 0.4509804 ],\n",
              "         ...,\n",
              "         [0.39215687, 0.49803922, 0.17254902],\n",
              "         [0.40392157, 0.5019608 , 0.2       ],\n",
              "         [0.40784314, 0.5019608 , 0.21176471]],\n",
              "\n",
              "        [[0.48235294, 0.6117647 , 0.44313726],\n",
              "         [0.4862745 , 0.6156863 , 0.44705883],\n",
              "         [0.49019608, 0.6156863 , 0.45490196],\n",
              "         ...,\n",
              "         [0.36862746, 0.47843137, 0.17254902],\n",
              "         [0.38431373, 0.47843137, 0.1764706 ],\n",
              "         [0.3882353 , 0.47843137, 0.1764706 ]],\n",
              "\n",
              "        [[0.48235294, 0.60784316, 0.44313726],\n",
              "         [0.4862745 , 0.6117647 , 0.44705883],\n",
              "         [0.4862745 , 0.6117647 , 0.45490196],\n",
              "         ...,\n",
              "         [0.35686275, 0.4509804 , 0.15686275],\n",
              "         [0.35686275, 0.45882353, 0.15686275],\n",
              "         [0.36078432, 0.4627451 , 0.16078432]]],\n",
              "\n",
              "\n",
              "       [[[0.10980392, 0.22352941, 0.04313726],\n",
              "         [0.11372549, 0.22745098, 0.04705882],\n",
              "         [0.11764706, 0.23921569, 0.05882353],\n",
              "         ...,\n",
              "         [0.58431375, 0.6313726 , 0.58431375],\n",
              "         [0.5686275 , 0.62352943, 0.5529412 ],\n",
              "         [0.5647059 , 0.62352943, 0.54901963]],\n",
              "\n",
              "        [[0.10588235, 0.21960784, 0.03921569],\n",
              "         [0.10588235, 0.21960784, 0.03921569],\n",
              "         [0.11372549, 0.23529412, 0.05098039],\n",
              "         ...,\n",
              "         [0.59607846, 0.6431373 , 0.59607846],\n",
              "         [0.5764706 , 0.63529414, 0.5647059 ],\n",
              "         [0.5647059 , 0.61960787, 0.54509807]],\n",
              "\n",
              "        [[0.10980392, 0.22352941, 0.04313726],\n",
              "         [0.11372549, 0.22745098, 0.04705882],\n",
              "         [0.12156863, 0.24313726, 0.05882353],\n",
              "         ...,\n",
              "         [0.6039216 , 0.6509804 , 0.59607846],\n",
              "         [0.5882353 , 0.6392157 , 0.5764706 ],\n",
              "         [0.56078434, 0.6156863 , 0.5529412 ]],\n",
              "\n",
              "        ...,\n",
              "\n",
              "        [[0.11372549, 0.19215687, 0.00392157],\n",
              "         [0.10588235, 0.18039216, 0.00784314],\n",
              "         [0.10196079, 0.17254902, 0.01960784],\n",
              "         ...,\n",
              "         [0.14901961, 0.29411766, 0.05098039],\n",
              "         [0.14117648, 0.2627451 , 0.0627451 ],\n",
              "         [0.14117648, 0.25882354, 0.0627451 ]],\n",
              "\n",
              "        [[0.18431373, 0.2627451 , 0.02352941],\n",
              "         [0.14509805, 0.21960784, 0.        ],\n",
              "         [0.11764706, 0.1882353 , 0.        ],\n",
              "         ...,\n",
              "         [0.14117648, 0.27450982, 0.07450981],\n",
              "         [0.14901961, 0.27058825, 0.07450981],\n",
              "         [0.14901961, 0.27058825, 0.07058824]],\n",
              "\n",
              "        [[0.3019608 , 0.38431373, 0.10196079],\n",
              "         [0.24705882, 0.32941177, 0.05882353],\n",
              "         [0.21176471, 0.28235295, 0.03921569],\n",
              "         ...,\n",
              "         [0.15294118, 0.28235295, 0.10588235],\n",
              "         [0.16470589, 0.28627452, 0.09411765],\n",
              "         [0.16862746, 0.28627452, 0.09019608]]],\n",
              "\n",
              "\n",
              "       [[[0.8745098 , 0.87058824, 0.8666667 ],\n",
              "         [0.7647059 , 0.7607843 , 0.7372549 ],\n",
              "         [0.6784314 , 0.6745098 , 0.627451  ],\n",
              "         ...,\n",
              "         [0.27450982, 0.32941177, 0.2       ],\n",
              "         [0.37254903, 0.42745098, 0.26666668],\n",
              "         [0.3647059 , 0.4117647 , 0.21960784]],\n",
              "\n",
              "        [[0.972549  , 0.9764706 , 0.9764706 ],\n",
              "         [0.9019608 , 0.9098039 , 0.8862745 ],\n",
              "         [0.7137255 , 0.7254902 , 0.6745098 ],\n",
              "         ...,\n",
              "         [0.24705882, 0.29803923, 0.24313726],\n",
              "         [0.2627451 , 0.31764707, 0.23529412],\n",
              "         [0.2509804 , 0.3019608 , 0.1882353 ]],\n",
              "\n",
              "        [[0.9764706 , 0.99607843, 0.99607843],\n",
              "         [0.9607843 , 0.9843137 , 0.95686275],\n",
              "         [0.7607843 , 0.78431374, 0.7254902 ],\n",
              "         ...,\n",
              "         [0.24313726, 0.27450982, 0.29803923],\n",
              "         [0.2509804 , 0.3019608 , 0.29803923],\n",
              "         [0.24313726, 0.30588236, 0.27450982]],\n",
              "\n",
              "        ...,\n",
              "\n",
              "        [[0.9490196 , 0.92941177, 0.9411765 ],\n",
              "         [0.9529412 , 0.9490196 , 0.94509804],\n",
              "         [0.9529412 , 0.9647059 , 0.9411765 ],\n",
              "         ...,\n",
              "         [0.9098039 , 0.90588236, 0.8862745 ],\n",
              "         [0.91764706, 0.9137255 , 0.8980392 ],\n",
              "         [0.9607843 , 0.95686275, 0.9411765 ]],\n",
              "\n",
              "        [[0.95686275, 0.96862745, 0.95686275],\n",
              "         [0.96862745, 0.9764706 , 0.9607843 ],\n",
              "         [0.8980392 , 0.90588236, 0.8745098 ],\n",
              "         ...,\n",
              "         [0.9372549 , 0.93333334, 0.92941177],\n",
              "         [0.94509804, 0.9372549 , 0.9372549 ],\n",
              "         [0.972549  , 0.9647059 , 0.9647059 ]],\n",
              "\n",
              "        [[0.95686275, 0.972549  , 0.95686275],\n",
              "         [0.9529412 , 0.9607843 , 0.9411765 ],\n",
              "         [0.8627451 , 0.8666667 , 0.83137256],\n",
              "         ...,\n",
              "         [0.92941177, 0.92156863, 0.9254902 ],\n",
              "         [0.96862745, 0.9607843 , 0.9647059 ],\n",
              "         [0.95686275, 0.9490196 , 0.95686275]]],\n",
              "\n",
              "\n",
              "       ...,\n",
              "\n",
              "\n",
              "       [[[0.21960784, 0.22352941, 0.24313726],\n",
              "         [0.19607843, 0.20784314, 0.16470589],\n",
              "         [0.2627451 , 0.27450982, 0.25490198],\n",
              "         ...,\n",
              "         [0.16470589, 0.1764706 , 0.09019608],\n",
              "         [0.16470589, 0.1764706 , 0.09803922],\n",
              "         [0.17254902, 0.18431373, 0.10980392]],\n",
              "\n",
              "        [[0.27058825, 0.2627451 , 0.29803923],\n",
              "         [0.23137255, 0.23137255, 0.2       ],\n",
              "         [0.27450982, 0.26666668, 0.26666668],\n",
              "         ...,\n",
              "         [0.16470589, 0.1764706 , 0.09411765],\n",
              "         [0.16470589, 0.1764706 , 0.10196079],\n",
              "         [0.17254902, 0.18431373, 0.10980392]],\n",
              "\n",
              "        [[0.34117648, 0.30980393, 0.3647059 ],\n",
              "         [0.2901961 , 0.27058825, 0.26666668],\n",
              "         [0.3254902 , 0.29411766, 0.31764707],\n",
              "         ...,\n",
              "         [0.16470589, 0.1764706 , 0.10196079],\n",
              "         [0.16470589, 0.1764706 , 0.10196079],\n",
              "         [0.17254902, 0.18431373, 0.10980392]],\n",
              "\n",
              "        ...,\n",
              "\n",
              "        [[0.18431373, 0.28235295, 0.03137255],\n",
              "         [0.34901962, 0.42352942, 0.28235295],\n",
              "         [0.44705883, 0.5019608 , 0.4117647 ],\n",
              "         ...,\n",
              "         [0.2509804 , 0.36078432, 0.10980392],\n",
              "         [0.22352941, 0.34117648, 0.0627451 ],\n",
              "         [0.20392157, 0.32156864, 0.03137255]],\n",
              "\n",
              "        [[0.2       , 0.30588236, 0.0627451 ],\n",
              "         [0.16078432, 0.23921569, 0.05882353],\n",
              "         [0.18039216, 0.23529412, 0.10588235],\n",
              "         ...,\n",
              "         [0.25490198, 0.3764706 , 0.15294118],\n",
              "         [0.24705882, 0.36078432, 0.13725491],\n",
              "         [0.22745098, 0.34509805, 0.11764706]],\n",
              "\n",
              "        [[0.17254902, 0.2784314 , 0.03921569],\n",
              "         [0.15294118, 0.23137255, 0.04313726],\n",
              "         [0.1882353 , 0.24313726, 0.09803922],\n",
              "         ...,\n",
              "         [0.23529412, 0.3647059 , 0.14901961],\n",
              "         [0.24705882, 0.3647059 , 0.15686275],\n",
              "         [0.2509804 , 0.3647059 , 0.15686275]]],\n",
              "\n",
              "\n",
              "       [[[0.10980392, 0.16470589, 0.0627451 ],\n",
              "         [0.10980392, 0.16470589, 0.06666667],\n",
              "         [0.11372549, 0.16078432, 0.07058824],\n",
              "         ...,\n",
              "         [0.14117648, 0.21176471, 0.08235294],\n",
              "         [0.13725491, 0.19607843, 0.07450981],\n",
              "         [0.13725491, 0.1882353 , 0.07843138]],\n",
              "\n",
              "        [[0.10980392, 0.16470589, 0.0627451 ],\n",
              "         [0.10980392, 0.16078432, 0.0627451 ],\n",
              "         [0.10980392, 0.15686275, 0.06666667],\n",
              "         ...,\n",
              "         [0.13725491, 0.20784314, 0.08235294],\n",
              "         [0.13333334, 0.19607843, 0.07450981],\n",
              "         [0.13333334, 0.18431373, 0.07450981]],\n",
              "\n",
              "        [[0.10980392, 0.16470589, 0.0627451 ],\n",
              "         [0.10588235, 0.16078432, 0.0627451 ],\n",
              "         [0.10196079, 0.14901961, 0.05882353],\n",
              "         ...,\n",
              "         [0.13333334, 0.20392157, 0.07843138],\n",
              "         [0.12941177, 0.19215687, 0.07058824],\n",
              "         [0.12941177, 0.18039216, 0.07058824]],\n",
              "\n",
              "        ...,\n",
              "\n",
              "        [[0.3647059 , 0.5058824 , 0.15686275],\n",
              "         [0.34509805, 0.4745098 , 0.16470589],\n",
              "         [0.28235295, 0.39215687, 0.14509805],\n",
              "         ...,\n",
              "         [0.11764706, 0.15686275, 0.04705882],\n",
              "         [0.10588235, 0.14117648, 0.05098039],\n",
              "         [0.09411765, 0.12941177, 0.07058824]],\n",
              "\n",
              "        [[0.33333334, 0.47058824, 0.12156863],\n",
              "         [0.30588236, 0.42745098, 0.12941177],\n",
              "         [0.22745098, 0.32941177, 0.10588235],\n",
              "         ...,\n",
              "         [0.10980392, 0.13725491, 0.05882353],\n",
              "         [0.09803922, 0.11764706, 0.0627451 ],\n",
              "         [0.08235294, 0.10588235, 0.06666667]],\n",
              "\n",
              "        [[0.3019608 , 0.43529412, 0.09019608],\n",
              "         [0.2784314 , 0.3882353 , 0.09803922],\n",
              "         [0.19607843, 0.29411766, 0.07450981],\n",
              "         ...,\n",
              "         [0.10196079, 0.12156863, 0.06666667],\n",
              "         [0.09019608, 0.10196079, 0.07058824],\n",
              "         [0.07450981, 0.09411765, 0.07450981]]],\n",
              "\n",
              "\n",
              "       [[[0.5137255 , 0.47843137, 0.48235294],\n",
              "         [0.5058824 , 0.47058824, 0.4745098 ],\n",
              "         [0.49803922, 0.46666667, 0.45882353],\n",
              "         ...,\n",
              "         [0.21568628, 0.21568628, 0.20784314],\n",
              "         [0.22745098, 0.22745098, 0.21960784],\n",
              "         [0.23529412, 0.23529412, 0.22745098]],\n",
              "\n",
              "        [[0.50980395, 0.4862745 , 0.4862745 ],\n",
              "         [0.5058824 , 0.48235294, 0.48235294],\n",
              "         [0.5058824 , 0.48235294, 0.4745098 ],\n",
              "         ...,\n",
              "         [0.21960784, 0.21960784, 0.21176471],\n",
              "         [0.23137255, 0.23137255, 0.22352941],\n",
              "         [0.23921569, 0.23921569, 0.23137255]],\n",
              "\n",
              "        [[0.5019608 , 0.48235294, 0.47843137],\n",
              "         [0.5019608 , 0.48235294, 0.47843137],\n",
              "         [0.5019608 , 0.4862745 , 0.4745098 ],\n",
              "         ...,\n",
              "         [0.23921569, 0.23921569, 0.22352941],\n",
              "         [0.2509804 , 0.24705882, 0.23137255],\n",
              "         [0.25490198, 0.25490198, 0.23921569]],\n",
              "\n",
              "        ...,\n",
              "\n",
              "        [[0.53333336, 0.54509807, 0.48235294],\n",
              "         [0.23529412, 0.2509804 , 0.18431373],\n",
              "         [0.09019608, 0.11372549, 0.04313726],\n",
              "         ...,\n",
              "         [0.14509805, 0.16862746, 0.12941177],\n",
              "         [0.10588235, 0.14509805, 0.08235294],\n",
              "         [0.09019608, 0.13725491, 0.06666667]],\n",
              "\n",
              "        [[0.1764706 , 0.17254902, 0.10588235],\n",
              "         [0.13333334, 0.14117648, 0.06666667],\n",
              "         [0.21176471, 0.22352941, 0.14509805],\n",
              "         ...,\n",
              "         [0.12941177, 0.14901961, 0.11372549],\n",
              "         [0.08627451, 0.12941177, 0.05882353],\n",
              "         [0.07058824, 0.1254902 , 0.03921569]],\n",
              "\n",
              "        [[0.3764706 , 0.36078432, 0.2901961 ],\n",
              "         [0.5176471 , 0.50980395, 0.43137255],\n",
              "         [0.53333336, 0.5411765 , 0.45490196],\n",
              "         ...,\n",
              "         [0.1254902 , 0.14901961, 0.10196079],\n",
              "         [0.07058824, 0.1254902 , 0.04313726],\n",
              "         [0.05490196, 0.11764706, 0.02745098]]]], dtype=float32)"
            ]
          },
          "metadata": {},
          "execution_count": 12
        }
      ]
    },
    {
      "cell_type": "code",
      "source": [
        "y"
      ],
      "metadata": {
        "colab": {
          "base_uri": "https://localhost:8080/"
        },
        "id": "LsYceBRtXhvz",
        "outputId": "944fb3c6-e5a1-4036-916a-731d0292d5cf"
      },
      "execution_count": null,
      "outputs": [
        {
          "output_type": "execute_result",
          "data": {
            "text/plain": [
              "array([[0., 0., 0., ..., 0., 0., 0.],\n",
              "       [0., 1., 0., ..., 0., 0., 0.],\n",
              "       [0., 0., 0., ..., 0., 0., 1.],\n",
              "       ...,\n",
              "       [0., 0., 0., ..., 0., 0., 0.],\n",
              "       [0., 0., 0., ..., 0., 0., 0.],\n",
              "       [0., 0., 0., ..., 0., 1., 0.]])"
            ]
          },
          "metadata": {},
          "execution_count": 13
        }
      ]
    },
    {
      "cell_type": "code",
      "source": [
        "x.shape"
      ],
      "metadata": {
        "colab": {
          "base_uri": "https://localhost:8080/"
        },
        "id": "0DDm8dyTXkRy",
        "outputId": "66836f1c-df79-4d55-a226-c73e9cbd88d0"
      },
      "execution_count": null,
      "outputs": [
        {
          "output_type": "execute_result",
          "data": {
            "text/plain": [
              "(1360, 224, 224, 3)"
            ]
          },
          "metadata": {},
          "execution_count": 14
        }
      ]
    },
    {
      "cell_type": "code",
      "source": [
        "y.shape"
      ],
      "metadata": {
        "colab": {
          "base_uri": "https://localhost:8080/"
        },
        "id": "IQbwOCsqXsw8",
        "outputId": "ca8f91ae-820d-4499-b4d9-2e5ebc83afa6"
      },
      "execution_count": null,
      "outputs": [
        {
          "output_type": "execute_result",
          "data": {
            "text/plain": [
              "(1360, 17)"
            ]
          },
          "metadata": {},
          "execution_count": 15
        }
      ]
    },
    {
      "cell_type": "code",
      "source": [
        "# Create a sequential model\n",
        "model = Sequential()\n",
        "\n",
        "# 1st Convolutional Layer\n",
        "model.add(Conv2D(filters=96, input_shape=(224,224,3), kernel_size=(11,11), strides=(4,4), padding='valid'))\n",
        "model.add(Activation('relu'))\n",
        "\n",
        "# Pooling \n",
        "model.add(MaxPooling2D(pool_size=(3,3), strides=(2,2), padding='valid'))\n",
        "# Batch Normalisation before passing it to the next layer\n",
        "model.add(BatchNormalization())\n",
        "\n",
        "# 2nd Convolutional Layer\n",
        "model.add(Conv2D(filters=256, kernel_size=(5,5), strides=(1,1), padding='same'))\n",
        "model.add(Activation('relu'))\n",
        "\n",
        "# Pooling\n",
        "model.add(MaxPooling2D(pool_size=(3,3), strides=(2,2), padding='valid'))\n",
        "# Batch Normalisation\n",
        "model.add(BatchNormalization())\n",
        "\n",
        "\n",
        "\n",
        "# 3rd Convolutional Layer\n",
        "model.add(Conv2D(filters=384, kernel_size=(3,3), strides=(1,1), padding='valid'))\n",
        "model.add(Activation('relu'))\n",
        "# Batch Normalisation\n",
        "model.add(BatchNormalization())\n",
        "\n",
        "# 4th Convolutional Layer\n",
        "model.add(Conv2D(filters=384, kernel_size=(3,3), strides=(1,1), padding='valid'))\n",
        "model.add(Activation('relu'))\n",
        "# Batch Normalisation\n",
        "model.add(BatchNormalization())\n",
        "\n",
        "\n",
        "# 5th Convolutional Layer\n",
        "model.add(Conv2D(filters=256, kernel_size=(3,3), strides=(1,1), padding='valid'))\n",
        "model.add(Activation('relu'))\n",
        "\n",
        "\n",
        "# Pooling\n",
        "model.add(MaxPooling2D(pool_size=(3,3), strides=(2,2), padding='valid'))\n",
        "# Batch Normalisation\n",
        "model.add(BatchNormalization())\n",
        "\n",
        "\n",
        "# Passing it to a dense layer\n",
        "model.add(Flatten())\n",
        "\n",
        "# 1st Dense Layer\n",
        "model.add(Dense(4096, input_shape=(224*224*3,)))\n",
        "model.add(Activation('relu'))\n",
        "# Add Dropout to prevent overfitting\n",
        "model.add(Dropout(0.4))\n",
        "# Batch Normalisation\n",
        "model.add(BatchNormalization())\n",
        "\n",
        "# 2nd Dense Layer\n",
        "model.add(Dense(4096))\n",
        "model.add(Activation('relu'))\n",
        "# Add Dropout\n",
        "model.add(Dropout(0.4))\n",
        "# Batch Normalisation\n",
        "model.add(BatchNormalization())\n",
        "\n",
        "# Output Layer\n",
        "model.add(Dense(17))\n",
        "model.add(Activation('softmax'))\n",
        "\n",
        "model.summary()"
      ],
      "metadata": {
        "colab": {
          "base_uri": "https://localhost:8080/"
        },
        "id": "Eas7XYmzX4qB",
        "outputId": "c370d797-6133-414e-9e7f-42df687018e5"
      },
      "execution_count": null,
      "outputs": [
        {
          "output_type": "stream",
          "name": "stdout",
          "text": [
            "Model: \"sequential_1\"\n",
            "_________________________________________________________________\n",
            " Layer (type)                Output Shape              Param #   \n",
            "=================================================================\n",
            " conv2d_5 (Conv2D)           (None, 54, 54, 96)        34944     \n",
            "                                                                 \n",
            " activation_8 (Activation)   (None, 54, 54, 96)        0         \n",
            "                                                                 \n",
            " max_pooling2d_3 (MaxPooling  (None, 26, 26, 96)       0         \n",
            " 2D)                                                             \n",
            "                                                                 \n",
            " batch_normalization_7 (Batc  (None, 26, 26, 96)       384       \n",
            " hNormalization)                                                 \n",
            "                                                                 \n",
            " conv2d_6 (Conv2D)           (None, 26, 26, 256)       614656    \n",
            "                                                                 \n",
            " activation_9 (Activation)   (None, 26, 26, 256)       0         \n",
            "                                                                 \n",
            " max_pooling2d_4 (MaxPooling  (None, 12, 12, 256)      0         \n",
            " 2D)                                                             \n",
            "                                                                 \n",
            " batch_normalization_8 (Batc  (None, 12, 12, 256)      1024      \n",
            " hNormalization)                                                 \n",
            "                                                                 \n",
            " conv2d_7 (Conv2D)           (None, 10, 10, 384)       885120    \n",
            "                                                                 \n",
            " activation_10 (Activation)  (None, 10, 10, 384)       0         \n",
            "                                                                 \n",
            " batch_normalization_9 (Batc  (None, 10, 10, 384)      1536      \n",
            " hNormalization)                                                 \n",
            "                                                                 \n",
            " conv2d_8 (Conv2D)           (None, 8, 8, 384)         1327488   \n",
            "                                                                 \n",
            " activation_11 (Activation)  (None, 8, 8, 384)         0         \n",
            "                                                                 \n",
            " batch_normalization_10 (Bat  (None, 8, 8, 384)        1536      \n",
            " chNormalization)                                                \n",
            "                                                                 \n",
            " conv2d_9 (Conv2D)           (None, 6, 6, 256)         884992    \n",
            "                                                                 \n",
            " activation_12 (Activation)  (None, 6, 6, 256)         0         \n",
            "                                                                 \n",
            " max_pooling2d_5 (MaxPooling  (None, 2, 2, 256)        0         \n",
            " 2D)                                                             \n",
            "                                                                 \n",
            " batch_normalization_11 (Bat  (None, 2, 2, 256)        1024      \n",
            " chNormalization)                                                \n",
            "                                                                 \n",
            " flatten_1 (Flatten)         (None, 1024)              0         \n",
            "                                                                 \n",
            " dense_3 (Dense)             (None, 4096)              4198400   \n",
            "                                                                 \n",
            " activation_13 (Activation)  (None, 4096)              0         \n",
            "                                                                 \n",
            " dropout_2 (Dropout)         (None, 4096)              0         \n",
            "                                                                 \n",
            " batch_normalization_12 (Bat  (None, 4096)             16384     \n",
            " chNormalization)                                                \n",
            "                                                                 \n",
            " dense_4 (Dense)             (None, 4096)              16781312  \n",
            "                                                                 \n",
            " activation_14 (Activation)  (None, 4096)              0         \n",
            "                                                                 \n",
            " dropout_3 (Dropout)         (None, 4096)              0         \n",
            "                                                                 \n",
            " batch_normalization_13 (Bat  (None, 4096)             16384     \n",
            " chNormalization)                                                \n",
            "                                                                 \n",
            " dense_5 (Dense)             (None, 17)                69649     \n",
            "                                                                 \n",
            " activation_15 (Activation)  (None, 17)                0         \n",
            "                                                                 \n",
            "=================================================================\n",
            "Total params: 24,834,833\n",
            "Trainable params: 24,815,697\n",
            "Non-trainable params: 19,136\n",
            "_________________________________________________________________\n"
          ]
        }
      ]
    },
    {
      "cell_type": "code",
      "source": [
        "# Compile \n",
        "\n",
        "opt = tf.optimizers.Adam(learning_rate = 0.01)\n",
        "model.compile(loss='categorical_crossentropy', optimizer=opt, metrics=['accuracy'])"
      ],
      "metadata": {
        "id": "A9sMbiPZaOFU"
      },
      "execution_count": null,
      "outputs": []
    },
    {
      "cell_type": "code",
      "source": [
        "# Train\n",
        "\n",
        "model.fit(x, y, batch_size=64, epochs=5, verbose=1,validation_split=0.2, shuffle=True)    ## shuffle ??"
      ],
      "metadata": {
        "colab": {
          "base_uri": "https://localhost:8080/"
        },
        "id": "2rgod3O1ap1C",
        "outputId": "b4cb1181-9c0c-42e5-9d72-27d1c3bb05cc"
      },
      "execution_count": null,
      "outputs": [
        {
          "output_type": "stream",
          "name": "stdout",
          "text": [
            "Train on 1088 samples, validate on 272 samples\n",
            "Epoch 1/5\n",
            "1088/1088 [==============================] - ETA: 0s - loss: 9.7762 - acc: 0.1425"
          ]
        },
        {
          "output_type": "stream",
          "name": "stderr",
          "text": [
            "/usr/local/lib/python3.8/dist-packages/keras/engine/training_v1.py:2045: UserWarning: `Model.state_updates` will be removed in a future version. This property should not be used in TensorFlow 2.0, as `updates` are applied automatically.\n",
            "  updates = self.state_updates\n"
          ]
        },
        {
          "output_type": "stream",
          "name": "stdout",
          "text": [
            "\b\b\b\b\b\b\b\b\b\b\b\b\b\b\b\b\b\b\b\b\b\b\b\b\b\b\b\b\b\b\b\b\b\b\b\b\b\b\b\b\b\b\b\b\b\b\b\b\b\b\b\b\b\b\b\b\b\b\b\b\b\b\b\b\b\b\b\b\b\b\b\b\b\b\b\b\b\b\b\b\b\r1088/1088 [==============================] - 13s 12ms/sample - loss: 9.7762 - acc: 0.1425 - val_loss: 280070.9412 - val_acc: 0.0441\n",
            "Epoch 2/5\n",
            "1088/1088 [==============================] - 1s 1ms/sample - loss: 5.9333 - acc: 0.2243 - val_loss: 14518.3814 - val_acc: 0.0515\n",
            "Epoch 3/5\n",
            "1088/1088 [==============================] - 1s 1ms/sample - loss: 4.9955 - acc: 0.2647 - val_loss: 1527.4624 - val_acc: 0.0699\n",
            "Epoch 4/5\n",
            "1088/1088 [==============================] - 1s 1ms/sample - loss: 4.6330 - acc: 0.2840 - val_loss: 479.3008 - val_acc: 0.0699\n",
            "Epoch 5/5\n",
            "1088/1088 [==============================] - 1s 1ms/sample - loss: 4.2803 - acc: 0.3217 - val_loss: 102.7865 - val_acc: 0.1544\n"
          ]
        },
        {
          "output_type": "execute_result",
          "data": {
            "text/plain": [
              "<keras.callbacks.History at 0x7ff9865a9e50>"
            ]
          },
          "metadata": {},
          "execution_count": 18
        }
      ]
    },
    {
      "cell_type": "code",
      "source": [],
      "metadata": {
        "id": "sK7qEdLia0-M"
      },
      "execution_count": null,
      "outputs": []
    }
  ]
}