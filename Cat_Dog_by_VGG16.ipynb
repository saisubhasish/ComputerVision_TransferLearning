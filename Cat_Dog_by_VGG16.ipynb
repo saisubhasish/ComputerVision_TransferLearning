{
  "cells": [
    {
      "cell_type": "markdown",
      "metadata": {
        "id": "G_On-uhGoQo_"
      },
      "source": [
        "## Transfer Learning VGG 16 using Keras"
      ]
    },
    {
      "cell_type": "code",
      "execution_count": 1,
      "metadata": {
        "colab": {
          "base_uri": "https://localhost:8080/"
        },
        "id": "COCzcPGroQpC",
        "outputId": "ffde7d71-5138-48c2-98f1-9dc454344e88"
      },
      "outputs": [
        {
          "output_type": "stream",
          "name": "stdout",
          "text": [
            "Sat Mar 11 09:55:27 2023       \n",
            "+-----------------------------------------------------------------------------+\n",
            "| NVIDIA-SMI 525.85.12    Driver Version: 525.85.12    CUDA Version: 12.0     |\n",
            "|-------------------------------+----------------------+----------------------+\n",
            "| GPU  Name        Persistence-M| Bus-Id        Disp.A | Volatile Uncorr. ECC |\n",
            "| Fan  Temp  Perf  Pwr:Usage/Cap|         Memory-Usage | GPU-Util  Compute M. |\n",
            "|                               |                      |               MIG M. |\n",
            "|===============================+======================+======================|\n",
            "|   0  Tesla T4            Off  | 00000000:00:04.0 Off |                    0 |\n",
            "| N/A   64C    P0    28W /  70W |      0MiB / 15360MiB |      0%      Default |\n",
            "|                               |                      |                  N/A |\n",
            "+-------------------------------+----------------------+----------------------+\n",
            "                                                                               \n",
            "+-----------------------------------------------------------------------------+\n",
            "| Processes:                                                                  |\n",
            "|  GPU   GI   CI        PID   Type   Process name                  GPU Memory |\n",
            "|        ID   ID                                                   Usage      |\n",
            "|=============================================================================|\n",
            "|  No running processes found                                                 |\n",
            "+-----------------------------------------------------------------------------+\n"
          ]
        }
      ],
      "source": [
        "!nvidia-smi"
      ]
    },
    {
      "cell_type": "code",
      "execution_count": 2,
      "metadata": {
        "colab": {
          "base_uri": "https://localhost:8080/"
        },
        "id": "YcHqtmlxoQpD",
        "outputId": "864b5553-1f3f-47c9-8cc4-24937d8b8c0b"
      },
      "outputs": [
        {
          "output_type": "stream",
          "name": "stdout",
          "text": [
            "2.11.0\n"
          ]
        }
      ],
      "source": [
        "import tensorflow as tf\n",
        "print(tf.__version__)"
      ]
    },
    {
      "cell_type": "code",
      "execution_count": 3,
      "metadata": {
        "id": "CbJjhNbzoQpE"
      },
      "outputs": [],
      "source": [
        "# import the libraries as shown below\n",
        "\n",
        "from tensorflow.keras.layers import Input, Lambda, Dense, Flatten\n",
        "from tensorflow.keras.models import Model\n",
        "from tensorflow.keras.applications.vgg16 import VGG16\n",
        "from tensorflow.keras.preprocessing import image\n",
        "from tensorflow.keras.preprocessing.image import ImageDataGenerator,load_img\n",
        "from tensorflow.keras.models import Sequential\n",
        "import numpy as np\n",
        "from glob import glob"
      ]
    },
    {
      "cell_type": "code",
      "source": [
        "from google.colab import drive\n",
        "drive.mount('/content/drive')"
      ],
      "metadata": {
        "colab": {
          "base_uri": "https://localhost:8080/"
        },
        "id": "2HOVb0wfuUdI",
        "outputId": "83c4e86d-da21-46c1-aeae-aa293dcb28d5"
      },
      "execution_count": 4,
      "outputs": [
        {
          "output_type": "stream",
          "name": "stdout",
          "text": [
            "Mounted at /content/drive\n"
          ]
        }
      ]
    },
    {
      "cell_type": "code",
      "source": [
        "ROOT_PATH = '/content/drive/MyDrive/DeepLearning/Cat_Dog-Project'"
      ],
      "metadata": {
        "id": "LSscBP_Nul3k"
      },
      "execution_count": 5,
      "outputs": []
    },
    {
      "cell_type": "code",
      "source": [
        "!pwd"
      ],
      "metadata": {
        "colab": {
          "base_uri": "https://localhost:8080/"
        },
        "id": "e1jhD1joXxNH",
        "outputId": "83585c7f-8f72-4bdb-be52-3573c69f32ae"
      },
      "execution_count": 6,
      "outputs": [
        {
          "output_type": "stream",
          "name": "stdout",
          "text": [
            "/content\n"
          ]
        }
      ]
    },
    {
      "cell_type": "code",
      "source": [
        "import os\n",
        "os.chdir(ROOT_PATH)\n",
        "os.getcwd()"
      ],
      "metadata": {
        "colab": {
          "base_uri": "https://localhost:8080/",
          "height": 36
        },
        "id": "UmIsJIoTu1Nv",
        "outputId": "f523042d-a75a-49f6-c773-5936b21a7727"
      },
      "execution_count": 7,
      "outputs": [
        {
          "output_type": "execute_result",
          "data": {
            "text/plain": [
              "'/content/drive/MyDrive/DeepLearning/Cat_Dog-Project'"
            ],
            "application/vnd.google.colaboratory.intrinsic+json": {
              "type": "string"
            }
          },
          "metadata": {},
          "execution_count": 7
        }
      ]
    },
    {
      "cell_type": "code",
      "source": [
        "!ls"
      ],
      "metadata": {
        "colab": {
          "base_uri": "https://localhost:8080/"
        },
        "id": "tdTuQySNycSg",
        "outputId": "80b289f8-9378-4b2c-a05a-565266e97054"
      },
      "execution_count": 8,
      "outputs": [
        {
          "output_type": "stream",
          "name": "stdout",
          "text": [
            "'Cat-Dog by VGG16.ipynb'   cat.jpg   dog.jpg   PetImages\n"
          ]
        }
      ]
    },
    {
      "cell_type": "code",
      "execution_count": 9,
      "metadata": {
        "id": "JJRs9wzsoQpE"
      },
      "outputs": [],
      "source": [
        "# re-size all the images to this\n",
        "IMAGE_SIZE = [224, 224]\n",
        "\n",
        "train_path = 'PetImages/train'\n",
        "valid_path = 'PetImages/validation'\n"
      ]
    },
    {
      "cell_type": "code",
      "execution_count": 10,
      "metadata": {
        "colab": {
          "base_uri": "https://localhost:8080/"
        },
        "id": "5FOgov0ooQpE",
        "outputId": "0520506a-aa14-467f-903e-086bbcbd3c35"
      },
      "outputs": [
        {
          "output_type": "stream",
          "name": "stdout",
          "text": [
            "Downloading data from https://storage.googleapis.com/tensorflow/keras-applications/vgg16/vgg16_weights_tf_dim_ordering_tf_kernels_notop.h5\n",
            "58889256/58889256 [==============================] - 3s 0us/step\n"
          ]
        }
      ],
      "source": [
        "# Import the VGG16 library as shown below and add preprocessing layer to the front of VGG\n",
        "# Here we will be using imagenet weights\n",
        "\n",
        "vgg16 = VGG16(input_shape=IMAGE_SIZE + [3], weights='imagenet', include_top=False)\n"
      ]
    },
    {
      "cell_type": "code",
      "source": [
        "# don't train existing weights\n",
        "for layer in vgg16.layers:\n",
        "  print(layer)"
      ],
      "metadata": {
        "colab": {
          "base_uri": "https://localhost:8080/"
        },
        "id": "hgy8jszDZI1E",
        "outputId": "18a2dfc9-8b43-49f9-b8f8-0747d1bb4de1"
      },
      "execution_count": 11,
      "outputs": [
        {
          "output_type": "stream",
          "name": "stdout",
          "text": [
            "<keras.engine.input_layer.InputLayer object at 0x7f43648b75b0>\n",
            "<keras.layers.convolutional.conv2d.Conv2D object at 0x7f43648a59a0>\n",
            "<keras.layers.convolutional.conv2d.Conv2D object at 0x7f436c358490>\n",
            "<keras.layers.pooling.max_pooling2d.MaxPooling2D object at 0x7f4358172460>\n",
            "<keras.layers.convolutional.conv2d.Conv2D object at 0x7f43640013a0>\n",
            "<keras.layers.convolutional.conv2d.Conv2D object at 0x7f43581a84c0>\n",
            "<keras.layers.pooling.max_pooling2d.MaxPooling2D object at 0x7f43581ace80>\n",
            "<keras.layers.convolutional.conv2d.Conv2D object at 0x7f43581ac130>\n",
            "<keras.layers.convolutional.conv2d.Conv2D object at 0x7f43581335e0>\n",
            "<keras.layers.convolutional.conv2d.Conv2D object at 0x7f4358137250>\n",
            "<keras.layers.pooling.max_pooling2d.MaxPooling2D object at 0x7f435813e220>\n",
            "<keras.layers.convolutional.conv2d.Conv2D object at 0x7f43581370a0>\n",
            "<keras.layers.convolutional.conv2d.Conv2D object at 0x7f435814b310>\n",
            "<keras.layers.convolutional.conv2d.Conv2D object at 0x7f435814b670>\n",
            "<keras.layers.pooling.max_pooling2d.MaxPooling2D object at 0x7f43581accd0>\n",
            "<keras.layers.convolutional.conv2d.Conv2D object at 0x7f4358145340>\n",
            "<keras.layers.convolutional.conv2d.Conv2D object at 0x7f4364001100>\n",
            "<keras.layers.convolutional.conv2d.Conv2D object at 0x7f4358172a00>\n",
            "<keras.layers.pooling.max_pooling2d.MaxPooling2D object at 0x7f4358152430>\n"
          ]
        }
      ]
    },
    {
      "cell_type": "code",
      "execution_count": 12,
      "metadata": {
        "id": "Rx7AkOQIoQpF"
      },
      "outputs": [],
      "source": [
        "# don't train existing weights\n",
        "for layer in vgg16.layers:\n",
        "    layer.trainable = False"
      ]
    },
    {
      "cell_type": "code",
      "source": [
        "for layer in vgg16.layers:\n",
        "  print(layer.name,layer.trainable)"
      ],
      "metadata": {
        "colab": {
          "base_uri": "https://localhost:8080/"
        },
        "id": "wNtlHqA8pyBx",
        "outputId": "9a6ffe37-c744-46f0-b87c-18f9d6b9dbc8"
      },
      "execution_count": 13,
      "outputs": [
        {
          "output_type": "stream",
          "name": "stdout",
          "text": [
            "input_1 False\n",
            "block1_conv1 False\n",
            "block1_conv2 False\n",
            "block1_pool False\n",
            "block2_conv1 False\n",
            "block2_conv2 False\n",
            "block2_pool False\n",
            "block3_conv1 False\n",
            "block3_conv2 False\n",
            "block3_conv3 False\n",
            "block3_pool False\n",
            "block4_conv1 False\n",
            "block4_conv2 False\n",
            "block4_conv3 False\n",
            "block4_pool False\n",
            "block5_conv1 False\n",
            "block5_conv2 False\n",
            "block5_conv3 False\n",
            "block5_pool False\n"
          ]
        }
      ]
    },
    {
      "cell_type": "code",
      "source": [
        "vgg16.summary()"
      ],
      "metadata": {
        "id": "5WBu-g3rqIcw",
        "outputId": "cb2d7f69-db7d-4f1a-ab47-2d25b199b928",
        "colab": {
          "base_uri": "https://localhost:8080/"
        }
      },
      "execution_count": 14,
      "outputs": [
        {
          "output_type": "stream",
          "name": "stdout",
          "text": [
            "Model: \"vgg16\"\n",
            "_________________________________________________________________\n",
            " Layer (type)                Output Shape              Param #   \n",
            "=================================================================\n",
            " input_1 (InputLayer)        [(None, 224, 224, 3)]     0         \n",
            "                                                                 \n",
            " block1_conv1 (Conv2D)       (None, 224, 224, 64)      1792      \n",
            "                                                                 \n",
            " block1_conv2 (Conv2D)       (None, 224, 224, 64)      36928     \n",
            "                                                                 \n",
            " block1_pool (MaxPooling2D)  (None, 112, 112, 64)      0         \n",
            "                                                                 \n",
            " block2_conv1 (Conv2D)       (None, 112, 112, 128)     73856     \n",
            "                                                                 \n",
            " block2_conv2 (Conv2D)       (None, 112, 112, 128)     147584    \n",
            "                                                                 \n",
            " block2_pool (MaxPooling2D)  (None, 56, 56, 128)       0         \n",
            "                                                                 \n",
            " block3_conv1 (Conv2D)       (None, 56, 56, 256)       295168    \n",
            "                                                                 \n",
            " block3_conv2 (Conv2D)       (None, 56, 56, 256)       590080    \n",
            "                                                                 \n",
            " block3_conv3 (Conv2D)       (None, 56, 56, 256)       590080    \n",
            "                                                                 \n",
            " block3_pool (MaxPooling2D)  (None, 28, 28, 256)       0         \n",
            "                                                                 \n",
            " block4_conv1 (Conv2D)       (None, 28, 28, 512)       1180160   \n",
            "                                                                 \n",
            " block4_conv2 (Conv2D)       (None, 28, 28, 512)       2359808   \n",
            "                                                                 \n",
            " block4_conv3 (Conv2D)       (None, 28, 28, 512)       2359808   \n",
            "                                                                 \n",
            " block4_pool (MaxPooling2D)  (None, 14, 14, 512)       0         \n",
            "                                                                 \n",
            " block5_conv1 (Conv2D)       (None, 14, 14, 512)       2359808   \n",
            "                                                                 \n",
            " block5_conv2 (Conv2D)       (None, 14, 14, 512)       2359808   \n",
            "                                                                 \n",
            " block5_conv3 (Conv2D)       (None, 14, 14, 512)       2359808   \n",
            "                                                                 \n",
            " block5_pool (MaxPooling2D)  (None, 7, 7, 512)         0         \n",
            "                                                                 \n",
            "=================================================================\n",
            "Total params: 14,714,688\n",
            "Trainable params: 0\n",
            "Non-trainable params: 14,714,688\n",
            "_________________________________________________________________\n"
          ]
        }
      ]
    },
    {
      "cell_type": "code",
      "execution_count": 15,
      "metadata": {
        "id": "N5TBzMtLoQpF"
      },
      "outputs": [],
      "source": [
        "  # useful for getting number of output classes\n",
        "folders = glob('PetImages/train/*')"
      ]
    },
    {
      "cell_type": "code",
      "execution_count": 16,
      "metadata": {
        "colab": {
          "base_uri": "https://localhost:8080/"
        },
        "id": "mEAc82BQoQpF",
        "outputId": "803bcfde-e1a3-4871-aec6-c0e5d3467d4b"
      },
      "outputs": [
        {
          "output_type": "execute_result",
          "data": {
            "text/plain": [
              "['PetImages/train/Dog', 'PetImages/train/Cat']"
            ]
          },
          "metadata": {},
          "execution_count": 16
        }
      ],
      "source": [
        "folders"
      ]
    },
    {
      "cell_type": "code",
      "source": [
        "# Number of label classes\n",
        "\n",
        "len(folders)"
      ],
      "metadata": {
        "colab": {
          "base_uri": "https://localhost:8080/"
        },
        "id": "TxWePQ04vWG0",
        "outputId": "b627d7fb-6d06-4c84-9052-62417f9127fa"
      },
      "execution_count": 17,
      "outputs": [
        {
          "output_type": "execute_result",
          "data": {
            "text/plain": [
              "2"
            ]
          },
          "metadata": {},
          "execution_count": 17
        }
      ]
    },
    {
      "cell_type": "code",
      "source": [
        "model = Sequential()\n",
        "\n",
        "model.add(vgg16)\n",
        "model.add(Flatten())\n",
        "model.add(Dense(256,activation='relu'))\n",
        "model.add(Dense(2,activation='softmax'))"
      ],
      "metadata": {
        "id": "az2MrlO7vcfE"
      },
      "execution_count": 18,
      "outputs": []
    },
    {
      "cell_type": "code",
      "execution_count": 19,
      "metadata": {
        "colab": {
          "base_uri": "https://localhost:8080/"
        },
        "id": "pCbQyhRloQpG",
        "outputId": "85c0be8e-58fb-41cd-8e11-dfe49c28977e"
      },
      "outputs": [
        {
          "output_type": "stream",
          "name": "stdout",
          "text": [
            "Model: \"sequential\"\n",
            "_________________________________________________________________\n",
            " Layer (type)                Output Shape              Param #   \n",
            "=================================================================\n",
            " vgg16 (Functional)          (None, 7, 7, 512)         14714688  \n",
            "                                                                 \n",
            " flatten (Flatten)           (None, 25088)             0         \n",
            "                                                                 \n",
            " dense (Dense)               (None, 256)               6422784   \n",
            "                                                                 \n",
            " dense_1 (Dense)             (None, 2)                 514       \n",
            "                                                                 \n",
            "=================================================================\n",
            "Total params: 21,137,986\n",
            "Trainable params: 6,423,298\n",
            "Non-trainable params: 14,714,688\n",
            "_________________________________________________________________\n"
          ]
        }
      ],
      "source": [
        "# view the structure of the model\n",
        "model.summary()"
      ]
    },
    {
      "cell_type": "code",
      "execution_count": 21,
      "metadata": {
        "id": "_v9RaVP0oQpG"
      },
      "outputs": [],
      "source": [
        "# tell the model what cost and optimization method to use\n",
        "model.compile(\n",
        "  loss='categorical_crossentropy',\n",
        "  optimizer='adam',\n",
        "  metrics=['accuracy']\n",
        ")\n"
      ]
    },
    {
      "cell_type": "code",
      "execution_count": 22,
      "metadata": {
        "id": "ccGtjaZBoQpH"
      },
      "outputs": [],
      "source": [
        "# Use the Image Data Generator to import the images from the dataset\n",
        "from tensorflow.keras.preprocessing.image import ImageDataGenerator\n",
        "\n",
        "train_datagen = ImageDataGenerator(rescale = 1./255,\n",
        "                                   shear_range = 0.2,\n",
        "                                   zoom_range = 0.2,\n",
        "                                   horizontal_flip = True)\n",
        "\n",
        "test_datagen = ImageDataGenerator(rescale = 1./255)"
      ]
    },
    {
      "cell_type": "code",
      "source": [
        "!pwd"
      ],
      "metadata": {
        "colab": {
          "base_uri": "https://localhost:8080/"
        },
        "id": "QRP78ABJbyRt",
        "outputId": "1238a59b-0d9a-4c6f-a492-e606b5e52281"
      },
      "execution_count": 23,
      "outputs": [
        {
          "output_type": "stream",
          "name": "stdout",
          "text": [
            "/content/drive/MyDrive/DeepLearning/Cat_Dog-Project\n"
          ]
        }
      ]
    },
    {
      "cell_type": "code",
      "execution_count": 24,
      "metadata": {
        "colab": {
          "base_uri": "https://localhost:8080/"
        },
        "id": "as_UVGKeoQpH",
        "outputId": "74610a78-b2a3-4014-c80b-cd62325611ae"
      },
      "outputs": [
        {
          "output_type": "stream",
          "name": "stdout",
          "text": [
            "Found 337 images belonging to 2 classes.\n"
          ]
        }
      ],
      "source": [
        "# Make sure you provide the same target size as initialied for the image size\n",
        "training_set = train_datagen.flow_from_directory('PetImages/train',\n",
        "                                                 target_size = (224, 224),\n",
        "                                                 batch_size = 32,\n",
        "                                                 class_mode = 'categorical')"
      ]
    },
    {
      "cell_type": "code",
      "execution_count": 25,
      "metadata": {
        "colab": {
          "base_uri": "https://localhost:8080/"
        },
        "id": "TGVUtA-8oQpH",
        "outputId": "04f30ce4-0288-4e4a-d43d-d4e11a9bf2ba"
      },
      "outputs": [
        {
          "output_type": "stream",
          "name": "stdout",
          "text": [
            "Found 59 images belonging to 2 classes.\n"
          ]
        }
      ],
      "source": [
        "test_set = test_datagen.flow_from_directory('PetImages/validation',\n",
        "                                            target_size = (224, 224),\n",
        "                                            batch_size = 32,\n",
        "                                            class_mode = 'categorical')"
      ]
    },
    {
      "cell_type": "code",
      "execution_count": 26,
      "metadata": {
        "scrolled": true,
        "colab": {
          "base_uri": "https://localhost:8080/"
        },
        "id": "JbP-SQBhoQpH",
        "outputId": "0c5ffc75-ae83-4b6f-d0d9-5820ae63a085"
      },
      "outputs": [
        {
          "output_type": "stream",
          "name": "stdout",
          "text": [
            "Epoch 1/10\n",
            "11/11 [==============================] - 129s 11s/step - loss: 2.4303 - accuracy: 0.5668 - val_loss: 0.4260 - val_accuracy: 0.8136\n",
            "Epoch 2/10\n",
            "11/11 [==============================] - 6s 564ms/step - loss: 0.3585 - accuracy: 0.8309 - val_loss: 0.6861 - val_accuracy: 0.7627\n",
            "Epoch 3/10\n",
            "11/11 [==============================] - 5s 469ms/step - loss: 0.2455 - accuracy: 0.9110 - val_loss: 0.5062 - val_accuracy: 0.8136\n",
            "Epoch 4/10\n",
            "11/11 [==============================] - 6s 604ms/step - loss: 0.1583 - accuracy: 0.9436 - val_loss: 0.4651 - val_accuracy: 0.8305\n",
            "Epoch 5/10\n",
            "11/11 [==============================] - 5s 472ms/step - loss: 0.0888 - accuracy: 0.9733 - val_loss: 0.4659 - val_accuracy: 0.8136\n",
            "Epoch 6/10\n",
            "11/11 [==============================] - 6s 571ms/step - loss: 0.0854 - accuracy: 0.9585 - val_loss: 0.4739 - val_accuracy: 0.8136\n",
            "Epoch 7/10\n",
            "11/11 [==============================] - 6s 555ms/step - loss: 0.0806 - accuracy: 0.9763 - val_loss: 0.4967 - val_accuracy: 0.7966\n",
            "Epoch 8/10\n",
            "11/11 [==============================] - 6s 552ms/step - loss: 0.0593 - accuracy: 0.9763 - val_loss: 0.4836 - val_accuracy: 0.7797\n",
            "Epoch 9/10\n",
            "11/11 [==============================] - 5s 467ms/step - loss: 0.0521 - accuracy: 0.9881 - val_loss: 0.4742 - val_accuracy: 0.8475\n",
            "Epoch 10/10\n",
            "11/11 [==============================] - 6s 569ms/step - loss: 0.0338 - accuracy: 1.0000 - val_loss: 0.5049 - val_accuracy: 0.8475\n"
          ]
        }
      ],
      "source": [
        "# fit the model\n",
        "# Run the cell. It will take some time to execute\n",
        "r = model.fit(\n",
        "  training_set,\n",
        "  validation_data=test_set,\n",
        "  epochs=10,\n",
        "  steps_per_epoch=len(training_set),\n",
        "  validation_steps=len(test_set)\n",
        ")"
      ]
    },
    {
      "cell_type": "code",
      "execution_count": 27,
      "metadata": {
        "id": "o1Ko1dSsoQpI"
      },
      "outputs": [],
      "source": [
        "import matplotlib.pyplot as plt"
      ]
    },
    {
      "cell_type": "code",
      "source": [
        "# plot the loss\n",
        "plt.plot(r.history['loss'], label='train loss')\n",
        "plt.plot(r.history['val_loss'], label='val loss')\n",
        "plt.legend()\n",
        "plt.show()\n",
        "plt.savefig('LossVal_loss')"
      ],
      "metadata": {
        "colab": {
          "base_uri": "https://localhost:8080/",
          "height": 282
        },
        "id": "7vQo-eqrxD8N",
        "outputId": "a55d381a-db09-4b94-d4f2-13de60ee6dc4"
      },
      "execution_count": 28,
      "outputs": [
        {
          "output_type": "display_data",
          "data": {
            "text/plain": [
              "<Figure size 432x288 with 1 Axes>"
            ],
            "image/png": "[encoded data removed]"
          },
          "metadata": {
            "needs_background": "light"
          }
        },
        {
          "output_type": "display_data",
          "data": {
            "text/plain": [
              "<Figure size 432x288 with 0 Axes>"
            ]
          },
          "metadata": {}
        }
      ]
    },
    {
      "cell_type": "code",
      "execution_count": 29,
      "metadata": {
        "colab": {
          "base_uri": "https://localhost:8080/",
          "height": 282
        },
        "id": "4qCxYaAPoQpI",
        "outputId": "b7aa8058-d97f-4e50-a1c8-bbd5dd8b60ba"
      },
      "outputs": [
        {
          "output_type": "display_data",
          "data": {
            "text/plain": [
              "<Figure size 432x288 with 1 Axes>"
            ],
            "image/png": "[encoded data removed]"
          },
          "metadata": {
            "needs_background": "light"
          }
        },
        {
          "output_type": "display_data",
          "data": {
            "text/plain": [
              "<Figure size 432x288 with 0 Axes>"
            ]
          },
          "metadata": {}
        }
      ],
      "source": [
        "# plot the accuracy\n",
        "plt.plot(r.history['accuracy'], label='train acc')\n",
        "plt.plot(r.history['val_accuracy'], label='val acc')\n",
        "plt.legend()\n",
        "plt.show()\n",
        "plt.savefig('AccVal_acc')"
      ]
    },
    {
      "cell_type": "code",
      "execution_count": 30,
      "metadata": {
        "id": "COqsN_kDoQpI"
      },
      "outputs": [],
      "source": [
        "# save it as a h5 file\n",
        "from tensorflow.keras.models import load_model\n",
        "\n",
        "model.save('model_vgg16.h5')"
      ]
    },
    {
      "cell_type": "code",
      "execution_count": 31,
      "metadata": {
        "colab": {
          "base_uri": "https://localhost:8080/"
        },
        "id": "x4D5sLfpoQpI",
        "outputId": "2af838ae-d6bc-47ce-c741-fe1d22437399"
      },
      "outputs": [
        {
          "output_type": "stream",
          "name": "stdout",
          "text": [
            "2/2 [==============================] - 0s 151ms/step\n"
          ]
        }
      ],
      "source": [
        "y_pred = model.predict(test_set)"
      ]
    },
    {
      "cell_type": "code",
      "execution_count": 32,
      "metadata": {
        "colab": {
          "base_uri": "https://localhost:8080/"
        },
        "id": "wtlfFRrRoQpI",
        "outputId": "84721d1f-4f90-42bc-d1af-426f6f6da6af"
      },
      "outputs": [
        {
          "output_type": "execute_result",
          "data": {
            "text/plain": [
              "array([[8.1457021e-03, 9.9185431e-01],\n",
              "       [9.0492189e-01, 9.5078081e-02],\n",
              "       [7.3738821e-04, 9.9926263e-01],\n",
              "       [6.4154523e-03, 9.9358457e-01],\n",
              "       [9.6498668e-01, 3.5013337e-02],\n",
              "       [9.9996066e-01, 3.9279079e-05],\n",
              "       [4.0311110e-03, 9.9596894e-01],\n",
              "       [9.9993813e-01, 6.1911247e-05],\n",
              "       [3.9106183e-02, 9.6089381e-01],\n",
              "       [5.1045208e-03, 9.9489540e-01],\n",
              "       [9.6664697e-01, 3.3353042e-02],\n",
              "       [8.7223279e-01, 1.2776721e-01],\n",
              "       [9.6556985e-01, 3.4430224e-02],\n",
              "       [4.9896038e-04, 9.9950099e-01],\n",
              "       [3.9893538e-03, 9.9601066e-01],\n",
              "       [9.2317796e-01, 7.6822020e-02],\n",
              "       [9.9872547e-01, 1.2744732e-03],\n",
              "       [6.4003460e-02, 9.3599653e-01],\n",
              "       [3.2444435e-01, 6.7555565e-01],\n",
              "       [5.2964695e-02, 9.4703537e-01],\n",
              "       [4.4422439e-01, 5.5577558e-01],\n",
              "       [5.4110712e-03, 9.9458897e-01],\n",
              "       [9.8893154e-01, 1.1068386e-02],\n",
              "       [9.9957508e-01, 4.2488764e-04],\n",
              "       [7.1222562e-01, 2.8777441e-01],\n",
              "       [3.5790300e-01, 6.4209700e-01],\n",
              "       [8.5866261e-01, 1.4133742e-01],\n",
              "       [9.8905748e-01, 1.0942497e-02],\n",
              "       [1.7870485e-06, 9.9999821e-01],\n",
              "       [1.2141805e-03, 9.9878579e-01],\n",
              "       [3.3181685e-01, 6.6818315e-01],\n",
              "       [7.0481689e-04, 9.9929512e-01],\n",
              "       [1.0230697e-02, 9.8976934e-01],\n",
              "       [9.5269281e-01, 4.7307223e-02],\n",
              "       [3.4902894e-07, 9.9999964e-01],\n",
              "       [9.9673766e-01, 3.2622882e-03],\n",
              "       [4.2462811e-02, 9.5753717e-01],\n",
              "       [1.3670848e-01, 8.6329150e-01],\n",
              "       [4.5288547e-12, 1.0000000e+00],\n",
              "       [9.9942541e-01, 5.7456706e-04],\n",
              "       [9.9977905e-01, 2.2093429e-04],\n",
              "       [9.9840385e-01, 1.5962063e-03],\n",
              "       [1.7960381e-05, 9.9998200e-01],\n",
              "       [9.4391400e-01, 5.6086004e-02],\n",
              "       [4.5529951e-06, 9.9999547e-01],\n",
              "       [3.2186097e-06, 9.9999678e-01],\n",
              "       [9.6343410e-01, 3.6565907e-02],\n",
              "       [6.1237238e-02, 9.3876278e-01],\n",
              "       [8.8966021e-04, 9.9911028e-01],\n",
              "       [4.0173098e-01, 5.9826899e-01],\n",
              "       [9.3367636e-01, 6.6323675e-02],\n",
              "       [9.9765056e-01, 2.3494654e-03],\n",
              "       [4.5794874e-01, 5.4205126e-01],\n",
              "       [1.0065039e-08, 1.0000000e+00],\n",
              "       [2.1582926e-02, 9.7841716e-01],\n",
              "       [1.5807429e-05, 9.9998415e-01],\n",
              "       [9.3552893e-01, 6.4471081e-02],\n",
              "       [1.8150339e-04, 9.9981850e-01],\n",
              "       [1.2132245e-04, 9.9987864e-01]], dtype=float32)"
            ]
          },
          "metadata": {},
          "execution_count": 32
        }
      ],
      "source": [
        "y_pred"
      ]
    },
    {
      "cell_type": "code",
      "execution_count": 33,
      "metadata": {
        "id": "C-ICKy-5oQpJ"
      },
      "outputs": [],
      "source": [
        "import numpy as np\n",
        "y_pred = np.argmax(y_pred, axis=1)"
      ]
    },
    {
      "cell_type": "code",
      "execution_count": 34,
      "metadata": {
        "colab": {
          "base_uri": "https://localhost:8080/"
        },
        "id": "-GDhHDksoQpJ",
        "outputId": "23b16f02-d6a8-4113-ffef-67e5dcab6ef4"
      },
      "outputs": [
        {
          "output_type": "execute_result",
          "data": {
            "text/plain": [
              "array([1, 0, 1, 1, 0, 0, 1, 0, 1, 1, 0, 0, 0, 1, 1, 0, 0, 1, 1, 1, 1, 1,\n",
              "       0, 0, 0, 1, 0, 0, 1, 1, 1, 1, 1, 0, 1, 0, 1, 1, 1, 0, 0, 0, 1, 0,\n",
              "       1, 1, 0, 1, 1, 1, 0, 0, 1, 1, 1, 1, 0, 1, 1])"
            ]
          },
          "metadata": {},
          "execution_count": 34
        }
      ],
      "source": [
        "y_pred"
      ]
    },
    {
      "cell_type": "code",
      "execution_count": 35,
      "metadata": {
        "id": "kqj7Au6FoQpJ"
      },
      "outputs": [],
      "source": [
        "from tensorflow.keras.models import load_model\n",
        "from tensorflow.keras.preprocessing import image"
      ]
    },
    {
      "cell_type": "code",
      "execution_count": 36,
      "metadata": {
        "id": "XL0M50cToQpJ"
      },
      "outputs": [],
      "source": [
        "model=load_model('model_vgg16.h5')"
      ]
    },
    {
      "cell_type": "code",
      "execution_count": 37,
      "metadata": {
        "id": "1LximTFLoQpJ"
      },
      "outputs": [],
      "source": [
        "img=image.load_img('cat.jpg',target_size=(224,224))"
      ]
    },
    {
      "cell_type": "code",
      "execution_count": 38,
      "metadata": {
        "colab": {
          "base_uri": "https://localhost:8080/"
        },
        "id": "MCqIwjCioQpJ",
        "outputId": "20c71b7b-d8ee-4a73-82d6-885cb3d689b1"
      },
      "outputs": [
        {
          "output_type": "execute_result",
          "data": {
            "text/plain": [
              "array([[[ 36.,  41.,  37.],\n",
              "        [ 38.,  42.,  41.],\n",
              "        [ 38.,  42.,  43.],\n",
              "        ...,\n",
              "        [200., 200., 166.],\n",
              "        [200., 198., 160.],\n",
              "        [203., 201., 162.]],\n",
              "\n",
              "       [[ 38.,  43.,  39.],\n",
              "        [ 39.,  43.,  42.],\n",
              "        [ 40.,  44.,  45.],\n",
              "        ...,\n",
              "        [208., 205., 172.],\n",
              "        [205., 203., 165.],\n",
              "        [204., 202., 163.]],\n",
              "\n",
              "       [[ 42.,  47.,  43.],\n",
              "        [ 40.,  44.,  43.],\n",
              "        [ 40.,  44.,  45.],\n",
              "        ...,\n",
              "        [201., 198., 167.],\n",
              "        [201., 196., 164.],\n",
              "        [197., 193., 158.]],\n",
              "\n",
              "       ...,\n",
              "\n",
              "       [[ 30.,  28.,  29.],\n",
              "        [ 24.,  22.,  23.],\n",
              "        [ 21.,  19.,  20.],\n",
              "        ...,\n",
              "        [ 47.,  34.,  28.],\n",
              "        [ 40.,  27.,  21.],\n",
              "        [ 52.,  41.,  35.]],\n",
              "\n",
              "       [[ 34.,  32.,  33.],\n",
              "        [ 27.,  25.,  26.],\n",
              "        [ 24.,  22.,  23.],\n",
              "        ...,\n",
              "        [ 45.,  32.,  24.],\n",
              "        [ 44.,  31.,  23.],\n",
              "        [ 65.,  55.,  46.]],\n",
              "\n",
              "       [[ 30.,  28.,  29.],\n",
              "        [ 26.,  24.,  25.],\n",
              "        [ 24.,  22.,  23.],\n",
              "        ...,\n",
              "        [ 54.,  41.,  33.],\n",
              "        [ 61.,  48.,  40.],\n",
              "        [ 38.,  28.,  19.]]], dtype=float32)"
            ]
          },
          "metadata": {},
          "execution_count": 38
        }
      ],
      "source": [
        "x=image.img_to_array(img)\n",
        "x"
      ]
    },
    {
      "cell_type": "code",
      "source": [
        "Z = plt.imread('cat.jpg')\n",
        "plt.imshow(Z)"
      ],
      "metadata": {
        "colab": {
          "base_uri": "https://localhost:8080/",
          "height": 286
        },
        "id": "ndGBT7Ns1xED",
        "outputId": "0bafc222-12e8-4484-8d6f-de699926676f"
      },
      "execution_count": 39,
      "outputs": [
        {
          "output_type": "execute_result",
          "data": {
            "text/plain": [
              "<matplotlib.image.AxesImage at 0x7f435053dd90>"
            ]
          },
          "metadata": {},
          "execution_count": 39
        },
        {
          "output_type": "display_data",
          "data": {
            "text/plain": [
              "<Figure size 432x288 with 1 Axes>"
            ],
            "image/png": "[encoded data removed]"
          },
          "metadata": {
            "needs_background": "light"
          }
        }
      ]
    },
    {
      "cell_type": "code",
      "execution_count": 40,
      "metadata": {
        "colab": {
          "base_uri": "https://localhost:8080/"
        },
        "id": "XcmlehPvoQpJ",
        "outputId": "dde8efd6-a302-494f-a70f-b64561a9da71"
      },
      "outputs": [
        {
          "output_type": "execute_result",
          "data": {
            "text/plain": [
              "(224, 224, 3)"
            ]
          },
          "metadata": {},
          "execution_count": 40
        }
      ],
      "source": [
        "x.shape"
      ]
    },
    {
      "cell_type": "code",
      "execution_count": 41,
      "metadata": {
        "id": "-JxBg8BuoQpK"
      },
      "outputs": [],
      "source": [
        "x=x/255"
      ]
    },
    {
      "cell_type": "code",
      "source": [
        "from keras.applications.vgg16 import preprocess_input"
      ],
      "metadata": {
        "id": "j76htW2Myj1v"
      },
      "execution_count": 42,
      "outputs": []
    },
    {
      "cell_type": "code",
      "execution_count": 43,
      "metadata": {
        "colab": {
          "base_uri": "https://localhost:8080/"
        },
        "id": "4TPPbmbpoQpK",
        "outputId": "4e3d30c8-2426-43de-9b17-21b123310ed8"
      },
      "outputs": [
        {
          "output_type": "execute_result",
          "data": {
            "text/plain": [
              "(1, 224, 224, 3)"
            ]
          },
          "metadata": {},
          "execution_count": 43
        }
      ],
      "source": [
        "import numpy as np\n",
        "\n",
        "# Adding batch size -->> Extra dimension\n",
        "x=np.expand_dims(x,axis=0)\n",
        "img_data=preprocess_input(x)\n",
        "img_data.shape"
      ]
    },
    {
      "cell_type": "code",
      "execution_count": 44,
      "metadata": {
        "colab": {
          "base_uri": "https://localhost:8080/"
        },
        "id": "YycqMzQMoQpK",
        "outputId": "d5f86a6c-157e-4d99-f840-a73e4533de52"
      },
      "outputs": [
        {
          "output_type": "stream",
          "name": "stdout",
          "text": [
            "1/1 [==============================] - 1s 886ms/step\n"
          ]
        },
        {
          "output_type": "execute_result",
          "data": {
            "text/plain": [
              "array([[0.99428636, 0.00571368]], dtype=float32)"
            ]
          },
          "metadata": {},
          "execution_count": 44
        }
      ],
      "source": [
        "model.predict(img_data)"
      ]
    },
    {
      "cell_type": "code",
      "execution_count": 45,
      "metadata": {
        "colab": {
          "base_uri": "https://localhost:8080/"
        },
        "id": "JCnpd8rCoQpK",
        "outputId": "3b39c59c-19e5-454e-bdfc-c0cf08966498"
      },
      "outputs": [
        {
          "output_type": "stream",
          "name": "stdout",
          "text": [
            "1/1 [==============================] - 0s 20ms/step\n"
          ]
        }
      ],
      "source": [
        "result = np.argmax(model.predict(img_data), axis=1)"
      ]
    },
    {
      "cell_type": "code",
      "execution_count": 46,
      "metadata": {
        "colab": {
          "base_uri": "https://localhost:8080/"
        },
        "id": "N0olnSIooQpK",
        "outputId": "01997f76-e4a0-42bc-a11e-b885dd3ae50f"
      },
      "outputs": [
        {
          "output_type": "execute_result",
          "data": {
            "text/plain": [
              "0"
            ]
          },
          "metadata": {},
          "execution_count": 46
        }
      ],
      "source": [
        "result[0]"
      ]
    },
    {
      "cell_type": "code",
      "execution_count": 47,
      "metadata": {
        "id": "w2J4Puf3oQpK",
        "colab": {
          "base_uri": "https://localhost:8080/"
        },
        "outputId": "f6b5c8bb-9e84-4c48-b754-38f746899136"
      },
      "outputs": [
        {
          "output_type": "stream",
          "name": "stdout",
          "text": [
            "cat\n"
          ]
        }
      ],
      "source": [
        "if result[0] == 1:\n",
        "    prediction = 'dog'\n",
        "    print(prediction)\n",
        "else:\n",
        "    prediction = 'cat'\n",
        "    print(prediction)"
      ]
    },
    {
      "cell_type": "code",
      "source": [],
      "metadata": {
        "id": "WYXzJO0l0wB1"
      },
      "execution_count": 47,
      "outputs": []
    }
  ],
  "metadata": {
    "kernelspec": {
      "display_name": "Python 3",
      "language": "python",
      "name": "python3"
    },
    "language_info": {
      "codemirror_mode": {
        "name": "ipython",
        "version": 3
      },
      "file_extension": ".py",
      "mimetype": "text/x-python",
      "name": "python",
      "nbconvert_exporter": "python",
      "pygments_lexer": "ipython3",
      "version": "3.7.7"
    },
    "colab": {
      "provenance": [],
      "machine_shape": "hm"
    },
    "accelerator": "GPU",
    "gpuClass": "premium"
  },
  "nbformat": 4,
  "nbformat_minor": 0
}