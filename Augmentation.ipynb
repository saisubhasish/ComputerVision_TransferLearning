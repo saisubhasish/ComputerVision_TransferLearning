{
  "nbformat": 4,
  "nbformat_minor": 0,
  "metadata": {
    "colab": {
      "provenance": []
    },
    "kernelspec": {
      "name": "python3",
      "display_name": "Python 3"
    },
    "language_info": {
      "name": "python"
    }
  },
  "cells": [
    {
      "cell_type": "code",
      "execution_count": 1,
      "metadata": {
        "colab": {
          "base_uri": "https://localhost:8080/"
        },
        "id": "88Vx7UuICDAc",
        "outputId": "f64bdbd6-589e-4f4b-fa92-befbfdc7a8ac"
      },
      "outputs": [
        {
          "output_type": "stream",
          "name": "stdout",
          "text": [
            "Looking in indexes: https://pypi.org/simple, https://us-python.pkg.dev/colab-wheels/public/simple/\n",
            "Collecting Augmentor\n",
            "  Downloading Augmentor-0.2.10-py2.py3-none-any.whl (38 kB)\n",
            "Requirement already satisfied: tqdm>=4.9.0 in /usr/local/lib/python3.8/dist-packages (from Augmentor) (4.64.1)\n",
            "Requirement already satisfied: numpy>=1.11.0 in /usr/local/lib/python3.8/dist-packages (from Augmentor) (1.22.4)\n",
            "Requirement already satisfied: Pillow>=5.2.0 in /usr/local/lib/python3.8/dist-packages (from Augmentor) (8.4.0)\n",
            "Requirement already satisfied: future>=0.16.0 in /usr/local/lib/python3.8/dist-packages (from Augmentor) (0.16.0)\n",
            "Installing collected packages: Augmentor\n",
            "Successfully installed Augmentor-0.2.10\n"
          ]
        }
      ],
      "source": [
        "!pip install Augmentor"
      ]
    },
    {
      "cell_type": "code",
      "source": [
        "from google.colab import drive\n",
        "drive.mount('/content/drive')"
      ],
      "metadata": {
        "colab": {
          "base_uri": "https://localhost:8080/"
        },
        "id": "2OwUivKoCavb",
        "outputId": "52fcb00e-5fd1-4820-9c37-e65502c44b78"
      },
      "execution_count": 2,
      "outputs": [
        {
          "output_type": "stream",
          "name": "stdout",
          "text": [
            "Mounted at /content/drive\n"
          ]
        }
      ]
    },
    {
      "cell_type": "code",
      "source": [
        "import Augmentor\n",
        "\n",
        "path_to_data = '/content/drive/MyDrive/DeepLearning/flowers/train/daisy'\n",
        "\n",
        "#Create a pipeline\n",
        "p = Augmentor.Pipeline(path_to_data)"
      ],
      "metadata": {
        "colab": {
          "base_uri": "https://localhost:8080/"
        },
        "id": "_AHntMZoCKNj",
        "outputId": "3a180735-743c-4ed8-c883-4325dd188573"
      },
      "execution_count": 3,
      "outputs": [
        {
          "output_type": "stream",
          "name": "stdout",
          "text": [
            "Initialised with 120 image(s) found.\n",
            "Output directory set to /content/drive/MyDrive/DeepLearning/flowers/train/daisy/output."
          ]
        }
      ]
    },
    {
      "cell_type": "code",
      "source": [
        "p.flip_left_right(probability=0.3)   # It will be applied to 30% of images and create augmented images\n",
        "p.rotate180(probability=0.8)   # It will be applied to 80% of images and create augmented images\n"
      ],
      "metadata": {
        "id": "Arjzznc2DCgJ"
      },
      "execution_count": 5,
      "outputs": []
    },
    {
      "cell_type": "code",
      "source": [
        "# Now we can sample from the pipeline\n",
        "p.sample(1000)"
      ],
      "metadata": {
        "colab": {
          "base_uri": "https://localhost:8080/"
        },
        "id": "c3H37_Y4D-u0",
        "outputId": "a59b151d-0c05-44c4-ea54-8c425ad8a157"
      },
      "execution_count": 6,
      "outputs": [
        {
          "output_type": "stream",
          "name": "stderr",
          "text": [
            "Processing <PIL.JpegImagePlugin.JpegImageFile image mode=RGB size=192x240 at 0x7F4F184166A0>: 100%|██████████| 1000/1000 [00:16<00:00, 61.62 Samples/s]\n"
          ]
        }
      ]
    },
    {
      "cell_type": "code",
      "source": [],
      "metadata": {
        "id": "TIYC8ZyvEO8Y"
      },
      "execution_count": null,
      "outputs": []
    }
  ]
}